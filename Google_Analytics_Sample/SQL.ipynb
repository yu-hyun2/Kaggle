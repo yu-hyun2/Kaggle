{
 "cells": [
  {
   "cell_type": "markdown",
   "metadata": {},
   "source": [
    "## SQL | EDA of Google Analytics Data\n",
    "- [Dillon Myrick 노트북](https://www.kaggle.com/code/dillonmyrick/sql-eda-of-google-analytics-data/notebook)\n",
    "- [데이터 설명](https://support.google.com/analytics/answer/3437719?hl=en)"
   ]
  },
  {
   "cell_type": "code",
   "execution_count": 5,
   "metadata": {},
   "outputs": [],
   "source": [
    "import pandas as pd\n",
    "import seaborn as sns\n",
    "import matplotlib.pyplot as plt\n"
   ]
  },
  {
   "cell_type": "markdown",
   "metadata": {},
   "source": [
    "### 1. 데이터 확인 \n",
    "- Bigquery와 connect해 데이터 살펴보기\n",
    "- [빅쿼리 사용을 위한 라이브러리 설치](https://github.com/googleapis/python-bigquery)\n",
    "- [사용자 인증 정보 설정](https://cloud.google.com/docs/authentication/provide-credentials-adc?hl=ko#how-to)"
   ]
  },
  {
   "cell_type": "code",
   "execution_count": 6,
   "metadata": {},
   "outputs": [],
   "source": [
    "# pip install google-cloud-bigquery\n",
    "# pip install --upgrade google-cloud-bigquery"
   ]
  },
  {
   "cell_type": "code",
   "execution_count": 7,
   "metadata": {},
   "outputs": [
    {
     "name": "stderr",
     "output_type": "stream",
     "text": [
      "c:\\Users\\cyh51\\anaconda3\\lib\\site-packages\\google\\auth\\_default.py:78: UserWarning:\n",
      "\n",
      "Your application has authenticated using end user credentials from Google Cloud SDK without a quota project. You might receive a \"quota exceeded\" or \"API not enabled\" error. See the following page for troubleshooting: https://cloud.google.com/docs/authentication/adc-troubleshooting/user-creds. \n",
      "\n"
     ]
    }
   ],
   "source": [
    "from google.cloud import bigquery\n",
    "\n",
    "client = bigquery.Client(project = \"prime-dogfish-374600\")\n",
    "dataset_ref = client.dataset('google_analytics_sample', project = 'bigquery-public-data')\n",
    "\n",
    "dataset = client.get_dataset(dataset_ref)"
   ]
  },
  {
   "cell_type": "code",
   "execution_count": 8,
   "metadata": {},
   "outputs": [
    {
     "data": {
      "text/plain": [
       "['ga_sessions_20160801',\n",
       " 'ga_sessions_20160802',\n",
       " 'ga_sessions_20160803',\n",
       " 'ga_sessions_20160804',\n",
       " 'ga_sessions_20160805']"
      ]
     },
     "execution_count": 8,
     "metadata": {},
     "output_type": "execute_result"
    }
   ],
   "source": [
    "# dataset 확인\n",
    "[x.table_id for x in client.list_tables(dataset)][:5]"
   ]
  },
  {
   "cell_type": "code",
   "execution_count": 9,
   "metadata": {},
   "outputs": [],
   "source": [
    "# pip install db-dtypes\n",
    "# pip install --upgrade 'google-cloud-bigquery[all]'\n",
    "# pip install --upgrade google-cloud-bigquery-storage google-cloud-bigquery-datatransfer"
   ]
  },
  {
   "cell_type": "code",
   "execution_count": 10,
   "metadata": {},
   "outputs": [
    {
     "data": {
      "text/html": [
       "<div>\n",
       "<style scoped>\n",
       "    .dataframe tbody tr th:only-of-type {\n",
       "        vertical-align: middle;\n",
       "    }\n",
       "\n",
       "    .dataframe tbody tr th {\n",
       "        vertical-align: top;\n",
       "    }\n",
       "\n",
       "    .dataframe thead th {\n",
       "        text-align: right;\n",
       "    }\n",
       "</style>\n",
       "<table border=\"1\" class=\"dataframe\">\n",
       "  <thead>\n",
       "    <tr style=\"text-align: right;\">\n",
       "      <th></th>\n",
       "      <th>visitorId</th>\n",
       "      <th>visitNumber</th>\n",
       "      <th>visitId</th>\n",
       "      <th>visitStartTime</th>\n",
       "      <th>date</th>\n",
       "      <th>totals</th>\n",
       "      <th>trafficSource</th>\n",
       "      <th>device</th>\n",
       "      <th>geoNetwork</th>\n",
       "      <th>customDimensions</th>\n",
       "      <th>hits</th>\n",
       "      <th>fullVisitorId</th>\n",
       "      <th>userId</th>\n",
       "      <th>channelGrouping</th>\n",
       "      <th>socialEngagementType</th>\n",
       "    </tr>\n",
       "  </thead>\n",
       "  <tbody>\n",
       "    <tr>\n",
       "      <th>0</th>\n",
       "      <td>&lt;NA&gt;</td>\n",
       "      <td>1</td>\n",
       "      <td>1470046245</td>\n",
       "      <td>1470046245</td>\n",
       "      <td>20160801</td>\n",
       "      <td>{'visits': 1, 'hits': 24, 'pageviews': 17, 'ti...</td>\n",
       "      <td>{'referralPath': None, 'campaign': '(not set)'...</td>\n",
       "      <td>{'browser': 'Firefox', 'browserVersion': 'not ...</td>\n",
       "      <td>{'continent': 'Europe', 'subContinent': 'Weste...</td>\n",
       "      <td>[{'index': 4, 'value': 'EMEA'}]</td>\n",
       "      <td>[{'hitNumber': 1, 'time': 0, 'hour': 3, 'minut...</td>\n",
       "      <td>895954260133011192</td>\n",
       "      <td>None</td>\n",
       "      <td>Organic Search</td>\n",
       "      <td>Not Socially Engaged</td>\n",
       "    </tr>\n",
       "    <tr>\n",
       "      <th>1</th>\n",
       "      <td>&lt;NA&gt;</td>\n",
       "      <td>1</td>\n",
       "      <td>1470084717</td>\n",
       "      <td>1470084717</td>\n",
       "      <td>20160801</td>\n",
       "      <td>{'visits': 1, 'hits': 24, 'pageviews': 18, 'ti...</td>\n",
       "      <td>{'referralPath': None, 'campaign': '(not set)'...</td>\n",
       "      <td>{'browser': 'Internet Explorer', 'browserVersi...</td>\n",
       "      <td>{'continent': 'Americas', 'subContinent': 'Nor...</td>\n",
       "      <td>[{'index': 4, 'value': 'North America'}]</td>\n",
       "      <td>[{'hitNumber': 1, 'time': 0, 'hour': 13, 'minu...</td>\n",
       "      <td>0288478011259077136</td>\n",
       "      <td>None</td>\n",
       "      <td>Direct</td>\n",
       "      <td>Not Socially Engaged</td>\n",
       "    </tr>\n",
       "    <tr>\n",
       "      <th>2</th>\n",
       "      <td>&lt;NA&gt;</td>\n",
       "      <td>3</td>\n",
       "      <td>1470078988</td>\n",
       "      <td>1470078988</td>\n",
       "      <td>20160801</td>\n",
       "      <td>{'visits': 1, 'hits': 27, 'pageviews': 17, 'ti...</td>\n",
       "      <td>{'referralPath': None, 'campaign': '(not set)'...</td>\n",
       "      <td>{'browser': 'Safari', 'browserVersion': 'not a...</td>\n",
       "      <td>{'continent': 'Americas', 'subContinent': 'Nor...</td>\n",
       "      <td>[{'index': 4, 'value': 'North America'}]</td>\n",
       "      <td>[{'hitNumber': 1, 'time': 0, 'hour': 12, 'minu...</td>\n",
       "      <td>6440789996634275026</td>\n",
       "      <td>None</td>\n",
       "      <td>Organic Search</td>\n",
       "      <td>Not Socially Engaged</td>\n",
       "    </tr>\n",
       "    <tr>\n",
       "      <th>3</th>\n",
       "      <td>&lt;NA&gt;</td>\n",
       "      <td>4</td>\n",
       "      <td>1470075581</td>\n",
       "      <td>1470075581</td>\n",
       "      <td>20160801</td>\n",
       "      <td>{'visits': 1, 'hits': 27, 'pageviews': 19, 'ti...</td>\n",
       "      <td>{'referralPath': '/', 'campaign': '(not set)',...</td>\n",
       "      <td>{'browser': 'Chrome', 'browserVersion': 'not a...</td>\n",
       "      <td>{'continent': 'Americas', 'subContinent': 'Nor...</td>\n",
       "      <td>[{'index': 4, 'value': 'North America'}]</td>\n",
       "      <td>[{'hitNumber': 1, 'time': 0, 'hour': 11, 'minu...</td>\n",
       "      <td>8520115029387302083</td>\n",
       "      <td>None</td>\n",
       "      <td>Referral</td>\n",
       "      <td>Not Socially Engaged</td>\n",
       "    </tr>\n",
       "    <tr>\n",
       "      <th>4</th>\n",
       "      <td>&lt;NA&gt;</td>\n",
       "      <td>30</td>\n",
       "      <td>1470099026</td>\n",
       "      <td>1470099026</td>\n",
       "      <td>20160801</td>\n",
       "      <td>{'visits': 1, 'hits': 27, 'pageviews': 17, 'ti...</td>\n",
       "      <td>{'referralPath': None, 'campaign': '(not set)'...</td>\n",
       "      <td>{'browser': 'Chrome', 'browserVersion': 'not a...</td>\n",
       "      <td>{'continent': 'Americas', 'subContinent': 'Nor...</td>\n",
       "      <td>[{'index': 4, 'value': 'North America'}]</td>\n",
       "      <td>[{'hitNumber': 1, 'time': 0, 'hour': 17, 'minu...</td>\n",
       "      <td>6792260745822342947</td>\n",
       "      <td>None</td>\n",
       "      <td>Organic Search</td>\n",
       "      <td>Not Socially Engaged</td>\n",
       "    </tr>\n",
       "  </tbody>\n",
       "</table>\n",
       "</div>"
      ],
      "text/plain": [
       "   visitorId  visitNumber     visitId  visitStartTime      date  \\\n",
       "0       <NA>            1  1470046245      1470046245  20160801   \n",
       "1       <NA>            1  1470084717      1470084717  20160801   \n",
       "2       <NA>            3  1470078988      1470078988  20160801   \n",
       "3       <NA>            4  1470075581      1470075581  20160801   \n",
       "4       <NA>           30  1470099026      1470099026  20160801   \n",
       "\n",
       "                                              totals  \\\n",
       "0  {'visits': 1, 'hits': 24, 'pageviews': 17, 'ti...   \n",
       "1  {'visits': 1, 'hits': 24, 'pageviews': 18, 'ti...   \n",
       "2  {'visits': 1, 'hits': 27, 'pageviews': 17, 'ti...   \n",
       "3  {'visits': 1, 'hits': 27, 'pageviews': 19, 'ti...   \n",
       "4  {'visits': 1, 'hits': 27, 'pageviews': 17, 'ti...   \n",
       "\n",
       "                                       trafficSource  \\\n",
       "0  {'referralPath': None, 'campaign': '(not set)'...   \n",
       "1  {'referralPath': None, 'campaign': '(not set)'...   \n",
       "2  {'referralPath': None, 'campaign': '(not set)'...   \n",
       "3  {'referralPath': '/', 'campaign': '(not set)',...   \n",
       "4  {'referralPath': None, 'campaign': '(not set)'...   \n",
       "\n",
       "                                              device  \\\n",
       "0  {'browser': 'Firefox', 'browserVersion': 'not ...   \n",
       "1  {'browser': 'Internet Explorer', 'browserVersi...   \n",
       "2  {'browser': 'Safari', 'browserVersion': 'not a...   \n",
       "3  {'browser': 'Chrome', 'browserVersion': 'not a...   \n",
       "4  {'browser': 'Chrome', 'browserVersion': 'not a...   \n",
       "\n",
       "                                          geoNetwork  \\\n",
       "0  {'continent': 'Europe', 'subContinent': 'Weste...   \n",
       "1  {'continent': 'Americas', 'subContinent': 'Nor...   \n",
       "2  {'continent': 'Americas', 'subContinent': 'Nor...   \n",
       "3  {'continent': 'Americas', 'subContinent': 'Nor...   \n",
       "4  {'continent': 'Americas', 'subContinent': 'Nor...   \n",
       "\n",
       "                           customDimensions  \\\n",
       "0           [{'index': 4, 'value': 'EMEA'}]   \n",
       "1  [{'index': 4, 'value': 'North America'}]   \n",
       "2  [{'index': 4, 'value': 'North America'}]   \n",
       "3  [{'index': 4, 'value': 'North America'}]   \n",
       "4  [{'index': 4, 'value': 'North America'}]   \n",
       "\n",
       "                                                hits        fullVisitorId  \\\n",
       "0  [{'hitNumber': 1, 'time': 0, 'hour': 3, 'minut...   895954260133011192   \n",
       "1  [{'hitNumber': 1, 'time': 0, 'hour': 13, 'minu...  0288478011259077136   \n",
       "2  [{'hitNumber': 1, 'time': 0, 'hour': 12, 'minu...  6440789996634275026   \n",
       "3  [{'hitNumber': 1, 'time': 0, 'hour': 11, 'minu...  8520115029387302083   \n",
       "4  [{'hitNumber': 1, 'time': 0, 'hour': 17, 'minu...  6792260745822342947   \n",
       "\n",
       "  userId channelGrouping  socialEngagementType  \n",
       "0   None  Organic Search  Not Socially Engaged  \n",
       "1   None          Direct  Not Socially Engaged  \n",
       "2   None  Organic Search  Not Socially Engaged  \n",
       "3   None        Referral  Not Socially Engaged  \n",
       "4   None  Organic Search  Not Socially Engaged  "
      ]
     },
     "execution_count": 10,
     "metadata": {},
     "output_type": "execute_result"
    }
   ],
   "source": [
    "# table_referencce 생성\n",
    "table_ref_20160801 = dataset_ref.table('ga_sessions_20160801')\n",
    "\n",
    "table_20160801 = client.get_table(table_ref_20160801)\n",
    "\n",
    "# 데이터 확인\n",
    "client.list_rows(table_20160801, max_results = 5).to_dataframe()"
   ]
  },
  {
   "cell_type": "code",
   "execution_count": 11,
   "metadata": {},
   "outputs": [],
   "source": [
    "# 데이터별로 정리 \n",
    "\n",
    "def format_schema_field(schema_field, indent = 0):\n",
    "    indent_str = \"  \" * indent\n",
    "    field_info = f\"{indent_str}{schema_field.name} ({schema_field.field_type})\"\n",
    "\n",
    "    if schema_field.mode != \"NULLABLE\":\n",
    "        field_info += f\" - {schema_field.mode}\"\n",
    "\n",
    "    if schema_field.description:\n",
    "        field_info += f\" - {schema_field.description}\"\n",
    "\n",
    "    nested_indent = indent + 2\n",
    "    if schema_field.field_type == \"RECORD\":\n",
    "        for sub_field in schema_field.fields:\n",
    "            field_info += \"\\n\" + format_schema_field(sub_field, nested_indent)\n",
    "\n",
    "    return field_info"
   ]
  },
  {
   "cell_type": "code",
   "execution_count": 12,
   "metadata": {},
   "outputs": [
    {
     "name": "stdout",
     "output_type": "stream",
     "text": [
      "totals (RECORD)\n",
      "    visits (INTEGER)\n",
      "    hits (INTEGER)\n",
      "    pageviews (INTEGER)\n",
      "    timeOnSite (INTEGER)\n",
      "    bounces (INTEGER)\n",
      "    transactions (INTEGER)\n",
      "    transactionRevenue (INTEGER)\n",
      "    newVisits (INTEGER)\n",
      "    screenviews (INTEGER)\n",
      "    uniqueScreenviews (INTEGER)\n",
      "    timeOnScreen (INTEGER)\n",
      "    totalTransactionRevenue (INTEGER)\n",
      "    sessionQualityDim (INTEGER)\n",
      "\n",
      "\n",
      "trafficSource (RECORD)\n",
      "    referralPath (STRING)\n",
      "    campaign (STRING)\n",
      "    source (STRING)\n",
      "    medium (STRING)\n",
      "    keyword (STRING)\n",
      "    adContent (STRING)\n",
      "    adwordsClickInfo (RECORD)\n",
      "        campaignId (INTEGER)\n",
      "        adGroupId (INTEGER)\n",
      "        creativeId (INTEGER)\n",
      "        criteriaId (INTEGER)\n",
      "        page (INTEGER)\n",
      "        slot (STRING)\n",
      "        criteriaParameters (STRING)\n",
      "        gclId (STRING)\n",
      "        customerId (INTEGER)\n",
      "        adNetworkType (STRING)\n",
      "        targetingCriteria (RECORD)\n",
      "            boomUserlistId (INTEGER)\n",
      "        isVideoAd (BOOLEAN)\n",
      "    isTrueDirect (BOOLEAN)\n",
      "    campaignCode (STRING)\n",
      "\n",
      "\n",
      "device (RECORD)\n",
      "    browser (STRING)\n",
      "    browserVersion (STRING)\n",
      "    browserSize (STRING)\n",
      "    operatingSystem (STRING)\n",
      "    operatingSystemVersion (STRING)\n",
      "    isMobile (BOOLEAN)\n",
      "    mobileDeviceBranding (STRING)\n",
      "    mobileDeviceModel (STRING)\n",
      "    mobileInputSelector (STRING)\n",
      "    mobileDeviceInfo (STRING)\n",
      "    mobileDeviceMarketingName (STRING)\n",
      "    flashVersion (STRING)\n",
      "    javaEnabled (BOOLEAN)\n",
      "    language (STRING)\n",
      "    screenColors (STRING)\n",
      "    screenResolution (STRING)\n",
      "    deviceCategory (STRING)\n",
      "\n",
      "\n",
      "geoNetwork (RECORD)\n",
      "    continent (STRING)\n",
      "    subContinent (STRING)\n",
      "    country (STRING)\n",
      "    region (STRING)\n",
      "    metro (STRING)\n",
      "    city (STRING)\n",
      "    cityId (STRING)\n",
      "    networkDomain (STRING)\n",
      "    latitude (STRING)\n",
      "    longitude (STRING)\n",
      "    networkLocation (STRING)\n",
      "\n",
      "\n",
      "customDimensions (RECORD) - REPEATED\n",
      "    index (INTEGER)\n",
      "    value (STRING)\n",
      "\n",
      "\n",
      "hits (RECORD) - REPEATED\n",
      "    hitNumber (INTEGER)\n",
      "    time (INTEGER)\n",
      "    hour (INTEGER)\n",
      "    minute (INTEGER)\n",
      "    isSecure (BOOLEAN)\n",
      "    isInteraction (BOOLEAN)\n",
      "    isEntrance (BOOLEAN)\n",
      "    isExit (BOOLEAN)\n",
      "    referer (STRING)\n",
      "    page (RECORD)\n",
      "        pagePath (STRING)\n",
      "        hostname (STRING)\n",
      "        pageTitle (STRING)\n",
      "        searchKeyword (STRING)\n",
      "        searchCategory (STRING)\n",
      "        pagePathLevel1 (STRING)\n",
      "        pagePathLevel2 (STRING)\n",
      "        pagePathLevel3 (STRING)\n",
      "        pagePathLevel4 (STRING)\n",
      "    transaction (RECORD)\n",
      "        transactionId (STRING)\n",
      "        transactionRevenue (INTEGER)\n",
      "        transactionTax (INTEGER)\n",
      "        transactionShipping (INTEGER)\n",
      "        affiliation (STRING)\n",
      "        currencyCode (STRING)\n",
      "        localTransactionRevenue (INTEGER)\n",
      "        localTransactionTax (INTEGER)\n",
      "        localTransactionShipping (INTEGER)\n",
      "        transactionCoupon (STRING)\n",
      "    item (RECORD)\n",
      "        transactionId (STRING)\n",
      "        productName (STRING)\n",
      "        productCategory (STRING)\n",
      "        productSku (STRING)\n",
      "        itemQuantity (INTEGER)\n",
      "        itemRevenue (INTEGER)\n",
      "        currencyCode (STRING)\n",
      "        localItemRevenue (INTEGER)\n",
      "    contentInfo (RECORD)\n",
      "        contentDescription (STRING)\n",
      "    appInfo (RECORD)\n",
      "        name (STRING)\n",
      "        version (STRING)\n",
      "        id (STRING)\n",
      "        installerId (STRING)\n",
      "        appInstallerId (STRING)\n",
      "        appName (STRING)\n",
      "        appVersion (STRING)\n",
      "        appId (STRING)\n",
      "        screenName (STRING)\n",
      "        landingScreenName (STRING)\n",
      "        exitScreenName (STRING)\n",
      "        screenDepth (STRING)\n",
      "    exceptionInfo (RECORD)\n",
      "        description (STRING)\n",
      "        isFatal (BOOLEAN)\n",
      "        exceptions (INTEGER)\n",
      "        fatalExceptions (INTEGER)\n",
      "    eventInfo (RECORD)\n",
      "        eventCategory (STRING)\n",
      "        eventAction (STRING)\n",
      "        eventLabel (STRING)\n",
      "        eventValue (INTEGER)\n",
      "    product (RECORD) - REPEATED\n",
      "        productSKU (STRING)\n",
      "        v2ProductName (STRING)\n",
      "        v2ProductCategory (STRING)\n",
      "        productVariant (STRING)\n",
      "        productBrand (STRING)\n",
      "        productRevenue (INTEGER)\n",
      "        localProductRevenue (INTEGER)\n",
      "        productPrice (INTEGER)\n",
      "        localProductPrice (INTEGER)\n",
      "        productQuantity (INTEGER)\n",
      "        productRefundAmount (INTEGER)\n",
      "        localProductRefundAmount (INTEGER)\n",
      "        isImpression (BOOLEAN)\n",
      "        isClick (BOOLEAN)\n",
      "        customDimensions (RECORD) - REPEATED\n",
      "            index (INTEGER)\n",
      "            value (STRING)\n",
      "        customMetrics (RECORD) - REPEATED\n",
      "            index (INTEGER)\n",
      "            value (INTEGER)\n",
      "        productListName (STRING)\n",
      "        productListPosition (INTEGER)\n",
      "    promotion (RECORD) - REPEATED\n",
      "        promoId (STRING)\n",
      "        promoName (STRING)\n",
      "        promoCreative (STRING)\n",
      "        promoPosition (STRING)\n",
      "    promotionActionInfo (RECORD)\n",
      "        promoIsView (BOOLEAN)\n",
      "        promoIsClick (BOOLEAN)\n",
      "    refund (RECORD)\n",
      "        refundAmount (INTEGER)\n",
      "        localRefundAmount (INTEGER)\n",
      "    eCommerceAction (RECORD)\n",
      "        action_type (STRING)\n",
      "        step (INTEGER)\n",
      "        option (STRING)\n",
      "    experiment (RECORD) - REPEATED\n",
      "        experimentId (STRING)\n",
      "        experimentVariant (STRING)\n",
      "    publisher (RECORD)\n",
      "        dfpClicks (INTEGER)\n",
      "        dfpImpressions (INTEGER)\n",
      "        dfpMatchedQueries (INTEGER)\n",
      "        dfpMeasurableImpressions (INTEGER)\n",
      "        dfpQueries (INTEGER)\n",
      "        dfpRevenueCpm (INTEGER)\n",
      "        dfpRevenueCpc (INTEGER)\n",
      "        dfpViewableImpressions (INTEGER)\n",
      "        dfpPagesViewed (INTEGER)\n",
      "        adsenseBackfillDfpClicks (INTEGER)\n",
      "        adsenseBackfillDfpImpressions (INTEGER)\n",
      "        adsenseBackfillDfpMatchedQueries (INTEGER)\n",
      "        adsenseBackfillDfpMeasurableImpressions (INTEGER)\n",
      "        adsenseBackfillDfpQueries (INTEGER)\n",
      "        adsenseBackfillDfpRevenueCpm (INTEGER)\n",
      "        adsenseBackfillDfpRevenueCpc (INTEGER)\n",
      "        adsenseBackfillDfpViewableImpressions (INTEGER)\n",
      "        adsenseBackfillDfpPagesViewed (INTEGER)\n",
      "        adxBackfillDfpClicks (INTEGER)\n",
      "        adxBackfillDfpImpressions (INTEGER)\n",
      "        adxBackfillDfpMatchedQueries (INTEGER)\n",
      "        adxBackfillDfpMeasurableImpressions (INTEGER)\n",
      "        adxBackfillDfpQueries (INTEGER)\n",
      "        adxBackfillDfpRevenueCpm (INTEGER)\n",
      "        adxBackfillDfpRevenueCpc (INTEGER)\n",
      "        adxBackfillDfpViewableImpressions (INTEGER)\n",
      "        adxBackfillDfpPagesViewed (INTEGER)\n",
      "        adxClicks (INTEGER)\n",
      "        adxImpressions (INTEGER)\n",
      "        adxMatchedQueries (INTEGER)\n",
      "        adxMeasurableImpressions (INTEGER)\n",
      "        adxQueries (INTEGER)\n",
      "        adxRevenue (INTEGER)\n",
      "        adxViewableImpressions (INTEGER)\n",
      "        adxPagesViewed (INTEGER)\n",
      "        adsViewed (INTEGER)\n",
      "        adsUnitsViewed (INTEGER)\n",
      "        adsUnitsMatched (INTEGER)\n",
      "        viewableAdsViewed (INTEGER)\n",
      "        measurableAdsViewed (INTEGER)\n",
      "        adsPagesViewed (INTEGER)\n",
      "        adsClicked (INTEGER)\n",
      "        adsRevenue (INTEGER)\n",
      "        dfpAdGroup (STRING)\n",
      "        dfpAdUnits (STRING)\n",
      "        dfpNetworkId (STRING)\n",
      "    customVariables (RECORD) - REPEATED\n",
      "        index (INTEGER)\n",
      "        customVarName (STRING)\n",
      "        customVarValue (STRING)\n",
      "    customDimensions (RECORD) - REPEATED\n",
      "        index (INTEGER)\n",
      "        value (STRING)\n",
      "    customMetrics (RECORD) - REPEATED\n",
      "        index (INTEGER)\n",
      "        value (INTEGER)\n",
      "    type (STRING)\n",
      "    social (RECORD)\n",
      "        socialInteractionNetwork (STRING)\n",
      "        socialInteractionAction (STRING)\n",
      "        socialInteractions (INTEGER)\n",
      "        socialInteractionTarget (STRING)\n",
      "        socialNetwork (STRING)\n",
      "        uniqueSocialInteractions (INTEGER)\n",
      "        hasSocialSourceReferral (STRING)\n",
      "        socialInteractionNetworkAction (STRING)\n",
      "    latencyTracking (RECORD)\n",
      "        pageLoadSample (INTEGER)\n",
      "        pageLoadTime (INTEGER)\n",
      "        pageDownloadTime (INTEGER)\n",
      "        redirectionTime (INTEGER)\n",
      "        speedMetricsSample (INTEGER)\n",
      "        domainLookupTime (INTEGER)\n",
      "        serverConnectionTime (INTEGER)\n",
      "        serverResponseTime (INTEGER)\n",
      "        domLatencyMetricsSample (INTEGER)\n",
      "        domInteractiveTime (INTEGER)\n",
      "        domContentLoadedTime (INTEGER)\n",
      "        userTimingValue (INTEGER)\n",
      "        userTimingSample (INTEGER)\n",
      "        userTimingVariable (STRING)\n",
      "        userTimingCategory (STRING)\n",
      "        userTimingLabel (STRING)\n",
      "    sourcePropertyInfo (RECORD)\n",
      "        sourcePropertyDisplayName (STRING)\n",
      "        sourcePropertyTrackingId (STRING)\n",
      "    contentGroup (RECORD)\n",
      "        contentGroup1 (STRING)\n",
      "        contentGroup2 (STRING)\n",
      "        contentGroup3 (STRING)\n",
      "        contentGroup4 (STRING)\n",
      "        contentGroup5 (STRING)\n",
      "        previousContentGroup1 (STRING)\n",
      "        previousContentGroup2 (STRING)\n",
      "        previousContentGroup3 (STRING)\n",
      "        previousContentGroup4 (STRING)\n",
      "        previousContentGroup5 (STRING)\n",
      "        contentGroupUniqueViews1 (INTEGER)\n",
      "        contentGroupUniqueViews2 (INTEGER)\n",
      "        contentGroupUniqueViews3 (INTEGER)\n",
      "        contentGroupUniqueViews4 (INTEGER)\n",
      "        contentGroupUniqueViews5 (INTEGER)\n",
      "    dataSource (STRING)\n",
      "    publisher_infos (RECORD) - REPEATED\n",
      "        dfpClicks (INTEGER)\n",
      "        dfpImpressions (INTEGER)\n",
      "        dfpMatchedQueries (INTEGER)\n",
      "        dfpMeasurableImpressions (INTEGER)\n",
      "        dfpQueries (INTEGER)\n",
      "        dfpRevenueCpm (INTEGER)\n",
      "        dfpRevenueCpc (INTEGER)\n",
      "        dfpViewableImpressions (INTEGER)\n",
      "        dfpPagesViewed (INTEGER)\n",
      "        adsenseBackfillDfpClicks (INTEGER)\n",
      "        adsenseBackfillDfpImpressions (INTEGER)\n",
      "        adsenseBackfillDfpMatchedQueries (INTEGER)\n",
      "        adsenseBackfillDfpMeasurableImpressions (INTEGER)\n",
      "        adsenseBackfillDfpQueries (INTEGER)\n",
      "        adsenseBackfillDfpRevenueCpm (INTEGER)\n",
      "        adsenseBackfillDfpRevenueCpc (INTEGER)\n",
      "        adsenseBackfillDfpViewableImpressions (INTEGER)\n",
      "        adsenseBackfillDfpPagesViewed (INTEGER)\n",
      "        adxBackfillDfpClicks (INTEGER)\n",
      "        adxBackfillDfpImpressions (INTEGER)\n",
      "        adxBackfillDfpMatchedQueries (INTEGER)\n",
      "        adxBackfillDfpMeasurableImpressions (INTEGER)\n",
      "        adxBackfillDfpQueries (INTEGER)\n",
      "        adxBackfillDfpRevenueCpm (INTEGER)\n",
      "        adxBackfillDfpRevenueCpc (INTEGER)\n",
      "        adxBackfillDfpViewableImpressions (INTEGER)\n",
      "        adxBackfillDfpPagesViewed (INTEGER)\n",
      "        adxClicks (INTEGER)\n",
      "        adxImpressions (INTEGER)\n",
      "        adxMatchedQueries (INTEGER)\n",
      "        adxMeasurableImpressions (INTEGER)\n",
      "        adxQueries (INTEGER)\n",
      "        adxRevenue (INTEGER)\n",
      "        adxViewableImpressions (INTEGER)\n",
      "        adxPagesViewed (INTEGER)\n",
      "        adsViewed (INTEGER)\n",
      "        adsUnitsViewed (INTEGER)\n",
      "        adsUnitsMatched (INTEGER)\n",
      "        viewableAdsViewed (INTEGER)\n",
      "        measurableAdsViewed (INTEGER)\n",
      "        adsPagesViewed (INTEGER)\n",
      "        adsClicked (INTEGER)\n",
      "        adsRevenue (INTEGER)\n",
      "        dfpAdGroup (STRING)\n",
      "        dfpAdUnits (STRING)\n",
      "        dfpNetworkId (STRING)\n",
      "\n",
      "\n"
     ]
    }
   ],
   "source": [
    "for i in range(5,11):\n",
    "    print(format_schema_field(table_20160801.schema[i]))\n",
    "    print('\\n')"
   ]
  },
  {
   "cell_type": "markdown",
   "metadata": {},
   "source": [
    "## 2. Make Our Goals Concrete\n",
    "1. 가장 인기 있는 페이지와 이탈률 분석\n",
    "2. 브라우저 및 디바이스별 세션 수 탐색\n",
    "3. 사이트 트래픽 유형과 품질 탐색\n",
    "4. 고객 전환 경로 및 잠재적인 병목 현상 파악\n",
    "5. 베스트셀러 제품 카테고리 식별 및 수요 예측"
   ]
  },
  {
   "cell_type": "markdown",
   "metadata": {},
   "source": [
    "## 3. Explore and Analyze Data"
   ]
  },
  {
   "cell_type": "markdown",
   "metadata": {},
   "source": [
    "### 1. Most Popular Pages\n"
   ]
  },
  {
   "cell_type": "markdown",
   "metadata": {},
   "source": [
    "#### 1-1 bounce_rate\n",
    "- 자주 방문하는 페이지와 해당 페이지의 이탈률(bounce_rate) 확인\n",
    "- `이탈률(bounce_rate) = 이탈 횟수 / 총 세션 수`, \n",
    "    - (이탈 횟수 = 사용자가 사이트에 들어왔다가 바로 떠난 세션)\n",
    "- 이탈률이 높을 때의 추측\n",
    "    - 사용자가 사이트에서 기대한 내용을 못 봤을 때 - 검색 엔진 최적화(SEO) 수행 필요\n",
    "    - 페이지에 기능 또는 디스플레이 문제가 있을 때"
   ]
  },
  {
   "cell_type": "code",
   "execution_count": 13,
   "metadata": {},
   "outputs": [
    {
     "data": {
      "text/html": [
       "<div>\n",
       "<style scoped>\n",
       "    .dataframe tbody tr th:only-of-type {\n",
       "        vertical-align: middle;\n",
       "    }\n",
       "\n",
       "    .dataframe tbody tr th {\n",
       "        vertical-align: top;\n",
       "    }\n",
       "\n",
       "    .dataframe thead th {\n",
       "        text-align: right;\n",
       "    }\n",
       "</style>\n",
       "<table border=\"1\" class=\"dataframe\">\n",
       "  <thead>\n",
       "    <tr style=\"text-align: right;\">\n",
       "      <th></th>\n",
       "      <th>landing_page</th>\n",
       "      <th>views</th>\n",
       "      <th>bounce_rate</th>\n",
       "    </tr>\n",
       "  </thead>\n",
       "  <tbody>\n",
       "    <tr>\n",
       "      <th>0</th>\n",
       "      <td>/home</td>\n",
       "      <td>612140</td>\n",
       "      <td>0.495475</td>\n",
       "    </tr>\n",
       "    <tr>\n",
       "      <th>1</th>\n",
       "      <td>/google+redesign/shop+by+brand/youtube</td>\n",
       "      <td>81512</td>\n",
       "      <td>0.562347</td>\n",
       "    </tr>\n",
       "    <tr>\n",
       "      <th>2</th>\n",
       "      <td>/google+redesign/apparel/men++s/men++s+t+shirts</td>\n",
       "      <td>20685</td>\n",
       "      <td>0.441141</td>\n",
       "    </tr>\n",
       "    <tr>\n",
       "      <th>3</th>\n",
       "      <td>/signin.html</td>\n",
       "      <td>16296</td>\n",
       "      <td>0.361622</td>\n",
       "    </tr>\n",
       "    <tr>\n",
       "      <th>4</th>\n",
       "      <td>/google+redesign/apparel/mens/mens+t+shirts</td>\n",
       "      <td>12691</td>\n",
       "      <td>0.475061</td>\n",
       "    </tr>\n",
       "    <tr>\n",
       "      <th>5</th>\n",
       "      <td>/basket.html</td>\n",
       "      <td>9431</td>\n",
       "      <td>0.454565</td>\n",
       "    </tr>\n",
       "    <tr>\n",
       "      <th>6</th>\n",
       "      <td>/google+redesign/drinkware</td>\n",
       "      <td>8833</td>\n",
       "      <td>0.533794</td>\n",
       "    </tr>\n",
       "    <tr>\n",
       "      <th>7</th>\n",
       "      <td>/google+redesign/bags</td>\n",
       "      <td>8608</td>\n",
       "      <td>0.451208</td>\n",
       "    </tr>\n",
       "    <tr>\n",
       "      <th>8</th>\n",
       "      <td>/google+redesign/apparel/men++s/men++s+outerwear</td>\n",
       "      <td>6345</td>\n",
       "      <td>0.432782</td>\n",
       "    </tr>\n",
       "    <tr>\n",
       "      <th>9</th>\n",
       "      <td>/google+redesign/apparel</td>\n",
       "      <td>6326</td>\n",
       "      <td>0.448150</td>\n",
       "    </tr>\n",
       "  </tbody>\n",
       "</table>\n",
       "</div>"
      ],
      "text/plain": [
       "                                       landing_page   views  bounce_rate\n",
       "0                                             /home  612140     0.495475\n",
       "1            /google+redesign/shop+by+brand/youtube   81512     0.562347\n",
       "2   /google+redesign/apparel/men++s/men++s+t+shirts   20685     0.441141\n",
       "3                                      /signin.html   16296     0.361622\n",
       "4       /google+redesign/apparel/mens/mens+t+shirts   12691     0.475061\n",
       "5                                      /basket.html    9431     0.454565\n",
       "6                        /google+redesign/drinkware    8833     0.533794\n",
       "7                             /google+redesign/bags    8608     0.451208\n",
       "8  /google+redesign/apparel/men++s/men++s+outerwear    6345     0.432782\n",
       "9                          /google+redesign/apparel    6326     0.448150"
      ]
     },
     "execution_count": 13,
     "metadata": {},
     "output_type": "execute_result"
    }
   ],
   "source": [
    "# hit = 1\n",
    "\n",
    "query = \"\"\"\n",
    "        SELECT\n",
    "            hits.page.pagePath AS landing_page,\n",
    "            COUNT(*) AS views,\n",
    "            SUM(totals.bounces)/COUNT(*) AS bounce_rate\n",
    "        FROM\n",
    "            `bigquery-public-data.google_analytics_sample.ga_sessions_*`,\n",
    "            UNNEST(hits) AS hits\n",
    "        WHERE\n",
    "            _TABLE_SUFFIX BETWEEN '20160801' AND '20170801'\n",
    "        AND\n",
    "            hits.type = 'PAGE'\n",
    "        AND\n",
    "            hits.hitNumber = 1\n",
    "        GROUP BY\n",
    "            landing_page\n",
    "        ORDER BY\n",
    "            views DESC\n",
    "        LIMIT 10\n",
    "        \"\"\"\n",
    "result = client.query(query).result().to_dataframe()\n",
    "result.head(10)"
   ]
  },
  {
   "cell_type": "markdown",
   "metadata": {},
   "source": [
    "- FROM\n",
    "    - 샘플 데이터셋에서 ga_sessions_*이 파티션화된 테이블\n",
    "    - `UNNEST(hits) AS hits` 중첩된 hits필드 펼치기 (반복 레코드 필드임)\n",
    "- WHERE\n",
    "    - `_TABLE_SUFFIX` 를 기반으로 20160801 ~ 20170801 데이터 필터링,\n",
    "    - `hits.type` Page형식의 히트만 고려\n",
    "- GROUP BY\n",
    "    - `landing_page` 필드를 기반으로 데이터 그룹화\n",
    "- SELECT\n",
    "    - 해당되는 데이터의 `landing_page`, `views`, `bounce_rate`만 볼 것임(`AS`로 컬럼명 수정)\n",
    "    - `landing_page` 페이지 경로(path)\n",
    "    - `views` 카운트 COUNT(*)\n",
    "    - `bounce_rate` 이탈률 = 이탈한 방문 수(totals.bounces의 합) / 총 방문 수(총 count)"
   ]
  },
  {
   "cell_type": "markdown",
   "metadata": {},
   "source": [
    "\n",
    "💡 __Insight__  \n",
    "- Men's `Apparel`과 `Bags` 다른 페이지에 비해 이탈률(bounce_rate)이 상대적으로 낮다.\n",
    "- `youtube`, `drinkware` 조회수(views)는 많지만 이탈률(bounce_rate)이 높다. \n"
   ]
  },
  {
   "cell_type": "markdown",
   "metadata": {},
   "source": []
  },
  {
   "cell_type": "markdown",
   "metadata": {},
   "source": [
    "#### 1-2 exit rate\n",
    "- exit rate는 랜딩 페이지뿐만 아니라 모든 페이지에 대해 계산\n",
    "- `이탈률(exit_rate) = 이탈 수 / 총 세션 수`\n",
    "    - (이탈 수 = 사용자가 페이지로 이동한 후 사이트를 떠난 세션)\n",
    "- exit_rate이 높으면 사용자가 페이지로 이동할 때 예상한 내용이 표시되지 않거나 페이지 기능 또는 디스플레이에 문제가 있는 것"
   ]
  },
  {
   "cell_type": "code",
   "execution_count": 14,
   "metadata": {},
   "outputs": [
    {
     "data": {
      "text/html": [
       "<div>\n",
       "<style scoped>\n",
       "    .dataframe tbody tr th:only-of-type {\n",
       "        vertical-align: middle;\n",
       "    }\n",
       "\n",
       "    .dataframe tbody tr th {\n",
       "        vertical-align: top;\n",
       "    }\n",
       "\n",
       "    .dataframe thead th {\n",
       "        text-align: right;\n",
       "    }\n",
       "</style>\n",
       "<table border=\"1\" class=\"dataframe\">\n",
       "  <thead>\n",
       "    <tr style=\"text-align: right;\">\n",
       "      <th></th>\n",
       "      <th>page</th>\n",
       "      <th>views</th>\n",
       "      <th>exit_rate</th>\n",
       "    </tr>\n",
       "  </thead>\n",
       "  <tbody>\n",
       "    <tr>\n",
       "      <th>0</th>\n",
       "      <td>/home</td>\n",
       "      <td>981285</td>\n",
       "      <td>0.309920</td>\n",
       "    </tr>\n",
       "    <tr>\n",
       "      <th>1</th>\n",
       "      <td>/basket.html</td>\n",
       "      <td>209360</td>\n",
       "      <td>0.020524</td>\n",
       "    </tr>\n",
       "    <tr>\n",
       "      <th>2</th>\n",
       "      <td>/google+redesign/shop+by+brand/youtube</td>\n",
       "      <td>145026</td>\n",
       "      <td>0.316198</td>\n",
       "    </tr>\n",
       "    <tr>\n",
       "      <th>3</th>\n",
       "      <td>/signin.html</td>\n",
       "      <td>101299</td>\n",
       "      <td>0.058322</td>\n",
       "    </tr>\n",
       "    <tr>\n",
       "      <th>4</th>\n",
       "      <td>/store.html</td>\n",
       "      <td>93551</td>\n",
       "      <td>0.025505</td>\n",
       "    </tr>\n",
       "    <tr>\n",
       "      <th>5</th>\n",
       "      <td>/google+redesign/apparel/men++s/men++s+t+shirts</td>\n",
       "      <td>67471</td>\n",
       "      <td>0.135392</td>\n",
       "    </tr>\n",
       "    <tr>\n",
       "      <th>6</th>\n",
       "      <td>/asearch.html</td>\n",
       "      <td>62380</td>\n",
       "      <td>0.031677</td>\n",
       "    </tr>\n",
       "    <tr>\n",
       "      <th>7</th>\n",
       "      <td>/google+redesign/electronics</td>\n",
       "      <td>56839</td>\n",
       "      <td>0.047116</td>\n",
       "    </tr>\n",
       "    <tr>\n",
       "      <th>8</th>\n",
       "      <td>/google+redesign/apparel</td>\n",
       "      <td>56552</td>\n",
       "      <td>0.050272</td>\n",
       "    </tr>\n",
       "    <tr>\n",
       "      <th>9</th>\n",
       "      <td>/google+redesign/bags</td>\n",
       "      <td>53686</td>\n",
       "      <td>0.072458</td>\n",
       "    </tr>\n",
       "  </tbody>\n",
       "</table>\n",
       "</div>"
      ],
      "text/plain": [
       "                                              page   views  exit_rate\n",
       "0                                            /home  981285   0.309920\n",
       "1                                     /basket.html  209360   0.020524\n",
       "2           /google+redesign/shop+by+brand/youtube  145026   0.316198\n",
       "3                                     /signin.html  101299   0.058322\n",
       "4                                      /store.html   93551   0.025505\n",
       "5  /google+redesign/apparel/men++s/men++s+t+shirts   67471   0.135392\n",
       "6                                    /asearch.html   62380   0.031677\n",
       "7                     /google+redesign/electronics   56839   0.047116\n",
       "8                         /google+redesign/apparel   56552   0.050272\n",
       "9                            /google+redesign/bags   53686   0.072458"
      ]
     },
     "execution_count": 14,
     "metadata": {},
     "output_type": "execute_result"
    }
   ],
   "source": [
    "query = \"\"\"\n",
    "        SELECT\n",
    "            hits.page.pagePath AS page,\n",
    "            COUNT(*) AS views,\n",
    "            SUM(totals.bounces)/COUNT(*) AS exit_rate\n",
    "        FROM\n",
    "            `bigquery-public-data.google_analytics_sample.ga_sessions_*`,\n",
    "            UNNEST(hits) AS hits\n",
    "        WHERE\n",
    "            _TABLE_SUFFIX BETWEEN '20160801' AND '20170801'\n",
    "        AND\n",
    "            hits.type = 'PAGE'\n",
    "        GROUP BY\n",
    "            page\n",
    "        ORDER BY\n",
    "            views DESC\n",
    "        LIMIT 10\n",
    "        \"\"\"\n",
    "result = client.query(query).result().to_dataframe()\n",
    "result.head(10)"
   ]
  },
  {
   "cell_type": "markdown",
   "metadata": {},
   "source": [
    "__💡 Insight__\n",
    "- 다른 페이지에 비해 남성 의류 관련 페이지의 exit_rate이 약간 높음\n",
    "- youtube의 exit_rate이 매우 높음\n"
   ]
  },
  {
   "cell_type": "markdown",
   "metadata": {},
   "source": [
    "#### 1-3 bounce_rate와 exit_rate의 차이 = 사용자가 처음 페이지를 방문한 순간의 정보 vs 모든 페이지 정보\n",
    "\n",
    "\n",
    "```sql\n",
    "# bounce_rate\n",
    " WHERE\n",
    "            _TABLE_SUFFIX BETWEEN '20160801' AND '20170801'\n",
    "        AND\n",
    "            hits.type = 'PAGE'\n",
    "        AND\n",
    "            hits.hitNumber = 1 ⭐⭐⭐⭐⭐\n",
    "            \n",
    "# exit_rate\n",
    "WHERE\n",
    "            _TABLE_SUFFIX BETWEEN '20160801' AND '20170801'\n",
    "        AND\n",
    "            hits.type = 'PAGE'\n",
    "\n",
    "```"
   ]
  },
  {
   "cell_type": "markdown",
   "metadata": {},
   "source": [
    "### 2. Browser and Device\n",
    "- 브라우저와 디바이스별로 세션과 호환성 문제 확인하기"
   ]
  },
  {
   "cell_type": "code",
   "execution_count": 15,
   "metadata": {},
   "outputs": [
    {
     "data": {
      "text/html": [
       "<div>\n",
       "<style scoped>\n",
       "    .dataframe tbody tr th:only-of-type {\n",
       "        vertical-align: middle;\n",
       "    }\n",
       "\n",
       "    .dataframe tbody tr th {\n",
       "        vertical-align: top;\n",
       "    }\n",
       "\n",
       "    .dataframe thead th {\n",
       "        text-align: right;\n",
       "    }\n",
       "</style>\n",
       "<table border=\"1\" class=\"dataframe\">\n",
       "  <thead>\n",
       "    <tr style=\"text-align: right;\">\n",
       "      <th></th>\n",
       "      <th>browser</th>\n",
       "      <th>sessions</th>\n",
       "      <th>exit_rate</th>\n",
       "    </tr>\n",
       "  </thead>\n",
       "  <tbody>\n",
       "    <tr>\n",
       "      <th>0</th>\n",
       "      <td>Chrome</td>\n",
       "      <td>3197849</td>\n",
       "      <td>0.091878</td>\n",
       "    </tr>\n",
       "    <tr>\n",
       "      <th>1</th>\n",
       "      <td>Safari</td>\n",
       "      <td>629906</td>\n",
       "      <td>0.157622</td>\n",
       "    </tr>\n",
       "    <tr>\n",
       "      <th>2</th>\n",
       "      <td>Firefox</td>\n",
       "      <td>133880</td>\n",
       "      <td>0.168195</td>\n",
       "    </tr>\n",
       "    <tr>\n",
       "      <th>3</th>\n",
       "      <td>Internet Explorer</td>\n",
       "      <td>62405</td>\n",
       "      <td>0.190369</td>\n",
       "    </tr>\n",
       "    <tr>\n",
       "      <th>4</th>\n",
       "      <td>Edge</td>\n",
       "      <td>38063</td>\n",
       "      <td>0.150934</td>\n",
       "    </tr>\n",
       "    <tr>\n",
       "      <th>5</th>\n",
       "      <td>Android Webview</td>\n",
       "      <td>25979</td>\n",
       "      <td>0.174872</td>\n",
       "    </tr>\n",
       "    <tr>\n",
       "      <th>6</th>\n",
       "      <td>Safari (in-app)</td>\n",
       "      <td>19037</td>\n",
       "      <td>0.213532</td>\n",
       "    </tr>\n",
       "    <tr>\n",
       "      <th>7</th>\n",
       "      <td>Opera</td>\n",
       "      <td>15439</td>\n",
       "      <td>0.209988</td>\n",
       "    </tr>\n",
       "    <tr>\n",
       "      <th>8</th>\n",
       "      <td>Opera Mini</td>\n",
       "      <td>12767</td>\n",
       "      <td>0.314639</td>\n",
       "    </tr>\n",
       "    <tr>\n",
       "      <th>9</th>\n",
       "      <td>UC Browser</td>\n",
       "      <td>5807</td>\n",
       "      <td>0.283968</td>\n",
       "    </tr>\n",
       "  </tbody>\n",
       "</table>\n",
       "</div>"
      ],
      "text/plain": [
       "             browser  sessions  exit_rate\n",
       "0             Chrome   3197849   0.091878\n",
       "1             Safari    629906   0.157622\n",
       "2            Firefox    133880   0.168195\n",
       "3  Internet Explorer     62405   0.190369\n",
       "4               Edge     38063   0.150934\n",
       "5    Android Webview     25979   0.174872\n",
       "6    Safari (in-app)     19037   0.213532\n",
       "7              Opera     15439   0.209988\n",
       "8         Opera Mini     12767   0.314639\n",
       "9         UC Browser      5807   0.283968"
      ]
     },
     "execution_count": 15,
     "metadata": {},
     "output_type": "execute_result"
    }
   ],
   "source": [
    "query = \"\"\"\n",
    "        SELECT\n",
    "            device.Browser AS browser,\n",
    "            COUNT(*) AS sessions,\n",
    "            SUM(totals.bounces)/COUNT(*) AS exit_rate\n",
    "        FROM\n",
    "            `bigquery-public-data.google_analytics_sample.ga_sessions_*`,\n",
    "            UNNEST(hits) AS hits\n",
    "        WHERE\n",
    "            _TABLE_SUFFIX BETWEEN '20160801' AND '20170801'\n",
    "        GROUP BY\n",
    "            browser\n",
    "        ORDER BY\n",
    "            sessions DESC\n",
    "        LIMIT 10\n",
    "        \"\"\"\n",
    "\n",
    "result = client.query(query).result().to_dataframe()\n",
    "result.head(10)"
   ]
  },
  {
   "cell_type": "markdown",
   "metadata": {},
   "source": [
    "상위 5개 브라우저 중 Chrome의 이탈률은 9%로 비교적 낮은 반면,  \n",
    "이탈률이 19%인 Internet Explorer를 제외한 나머지 브라우저는 Chrome에 비해 약 7~8% 정도 높음\n"
   ]
  },
  {
   "cell_type": "markdown",
   "metadata": {},
   "source": [
    "### 3. Traffic Type and Quality\n",
    "사이트로 유입되는 각 Traffic Type에 대한 세션 및 트랜잭션 데이터"
   ]
  },
  {
   "cell_type": "code",
   "execution_count": 16,
   "metadata": {},
   "outputs": [
    {
     "data": {
      "text/html": [
       "<div>\n",
       "<style scoped>\n",
       "    .dataframe tbody tr th:only-of-type {\n",
       "        vertical-align: middle;\n",
       "    }\n",
       "\n",
       "    .dataframe tbody tr th {\n",
       "        vertical-align: top;\n",
       "    }\n",
       "\n",
       "    .dataframe thead th {\n",
       "        text-align: right;\n",
       "    }\n",
       "</style>\n",
       "<table border=\"1\" class=\"dataframe\">\n",
       "  <thead>\n",
       "    <tr style=\"text-align: right;\">\n",
       "      <th></th>\n",
       "      <th>medium</th>\n",
       "      <th>sessions</th>\n",
       "      <th>exit_rate</th>\n",
       "      <th>transactions</th>\n",
       "      <th>total_revenue</th>\n",
       "      <th>conversion_rate</th>\n",
       "    </tr>\n",
       "  </thead>\n",
       "  <tbody>\n",
       "    <tr>\n",
       "      <th>0</th>\n",
       "      <td>(none)</td>\n",
       "      <td>2246040</td>\n",
       "      <td>0.069684</td>\n",
       "      <td>363228</td>\n",
       "      <td>69842914.68</td>\n",
       "      <td>0.161719</td>\n",
       "    </tr>\n",
       "    <tr>\n",
       "      <th>1</th>\n",
       "      <td>organic</td>\n",
       "      <td>1141113</td>\n",
       "      <td>0.101857</td>\n",
       "      <td>97332</td>\n",
       "      <td>19504702.25</td>\n",
       "      <td>0.085296</td>\n",
       "    </tr>\n",
       "    <tr>\n",
       "      <th>2</th>\n",
       "      <td>referral</td>\n",
       "      <td>580309</td>\n",
       "      <td>0.285806</td>\n",
       "      <td>22040</td>\n",
       "      <td>3501224.27</td>\n",
       "      <td>0.037980</td>\n",
       "    </tr>\n",
       "    <tr>\n",
       "      <th>3</th>\n",
       "      <td>cpc</td>\n",
       "      <td>88591</td>\n",
       "      <td>0.055028</td>\n",
       "      <td>9457</td>\n",
       "      <td>1528330.72</td>\n",
       "      <td>0.106749</td>\n",
       "    </tr>\n",
       "    <tr>\n",
       "      <th>4</th>\n",
       "      <td>affiliate</td>\n",
       "      <td>55860</td>\n",
       "      <td>0.157698</td>\n",
       "      <td>334</td>\n",
       "      <td>29118.69</td>\n",
       "      <td>0.005979</td>\n",
       "    </tr>\n",
       "    <tr>\n",
       "      <th>5</th>\n",
       "      <td>cpm</td>\n",
       "      <td>41253</td>\n",
       "      <td>0.054372</td>\n",
       "      <td>5951</td>\n",
       "      <td>8676307.66</td>\n",
       "      <td>0.144256</td>\n",
       "    </tr>\n",
       "    <tr>\n",
       "      <th>6</th>\n",
       "      <td>(not set)</td>\n",
       "      <td>509</td>\n",
       "      <td>0.108055</td>\n",
       "      <td>17</td>\n",
       "      <td>203.83</td>\n",
       "      <td>0.033399</td>\n",
       "    </tr>\n",
       "  </tbody>\n",
       "</table>\n",
       "</div>"
      ],
      "text/plain": [
       "      medium  sessions  exit_rate  transactions  total_revenue  \\\n",
       "0     (none)   2246040   0.069684        363228    69842914.68   \n",
       "1    organic   1141113   0.101857         97332    19504702.25   \n",
       "2   referral    580309   0.285806         22040     3501224.27   \n",
       "3        cpc     88591   0.055028          9457     1528330.72   \n",
       "4  affiliate     55860   0.157698           334       29118.69   \n",
       "5        cpm     41253   0.054372          5951     8676307.66   \n",
       "6  (not set)       509   0.108055            17         203.83   \n",
       "\n",
       "   conversion_rate  \n",
       "0         0.161719  \n",
       "1         0.085296  \n",
       "2         0.037980  \n",
       "3         0.106749  \n",
       "4         0.005979  \n",
       "5         0.144256  \n",
       "6         0.033399  "
      ]
     },
     "execution_count": 16,
     "metadata": {},
     "output_type": "execute_result"
    }
   ],
   "source": [
    "query = \"\"\"\n",
    "        SELECT\n",
    "            trafficSource.medium AS medium,\n",
    "            COUNT(*) AS sessions,\n",
    "            SUM(totals.bounces)/COUNT(*) AS exit_rate,\n",
    "            SUM(totals.transactions) AS transactions,\n",
    "            SUM(totals.totalTransactionRevenue)/1000000 AS total_revenue,\n",
    "            SUM(totals.transactions)/COUNT(*) AS conversion_rate\n",
    "        FROM\n",
    "            `bigquery-public-data.google_analytics_sample.ga_sessions_*`,\n",
    "            UNNEST(hits) AS hits\n",
    "        WHERE\n",
    "            _TABLE_SUFFIX BETWEEN '20160801' AND '20170801'\n",
    "        GROUP BY\n",
    "            medium\n",
    "        ORDER BY\n",
    "            sessions DESC\n",
    "        \"\"\"\n",
    "\n",
    "result = client.query(query).result().to_dataframe()\n",
    "result.head(10)"
   ]
  },
  {
   "cell_type": "markdown",
   "metadata": {},
   "source": [
    "__💡 Insight__\n",
    "- traffic(medium)은 대부분 `organic`, `referral`인 것을 확인\n",
    "- `cpc`와 `cpm`의 전환율(conversion_rate)이 다른 소스에 비해 상당히 높음\n",
    "- 전환율(conversion_rate) = 트랜잭션이 완료된 세션의 비율\n"
   ]
  },
  {
   "cell_type": "markdown",
   "metadata": {},
   "source": []
  },
  {
   "cell_type": "markdown",
   "metadata": {},
   "source": [
    "### 4. Identify Conversion Path and Possible Bottlenecks\n",
    "- 고객의 전환 경로와 전환 과정에서 사용자가 사이트를 이탈하는 영역 식별"
   ]
  },
  {
   "cell_type": "code",
   "execution_count": 17,
   "metadata": {},
   "outputs": [
    {
     "data": {
      "text/html": [
       "<div>\n",
       "<style scoped>\n",
       "    .dataframe tbody tr th:only-of-type {\n",
       "        vertical-align: middle;\n",
       "    }\n",
       "\n",
       "    .dataframe tbody tr th {\n",
       "        vertical-align: top;\n",
       "    }\n",
       "\n",
       "    .dataframe thead th {\n",
       "        text-align: right;\n",
       "    }\n",
       "</style>\n",
       "<table border=\"1\" class=\"dataframe\">\n",
       "  <thead>\n",
       "    <tr style=\"text-align: right;\">\n",
       "      <th></th>\n",
       "      <th>action</th>\n",
       "      <th>users</th>\n",
       "    </tr>\n",
       "  </thead>\n",
       "  <tbody>\n",
       "    <tr>\n",
       "      <th>0</th>\n",
       "      <td>Click through of product lists</td>\n",
       "      <td>445760</td>\n",
       "    </tr>\n",
       "    <tr>\n",
       "      <th>1</th>\n",
       "      <td>Product detail views</td>\n",
       "      <td>362607</td>\n",
       "    </tr>\n",
       "    <tr>\n",
       "      <th>2</th>\n",
       "      <td>Check out</td>\n",
       "      <td>248936</td>\n",
       "    </tr>\n",
       "    <tr>\n",
       "      <th>3</th>\n",
       "      <td>Completed purchase</td>\n",
       "      <td>74457</td>\n",
       "    </tr>\n",
       "  </tbody>\n",
       "</table>\n",
       "</div>"
      ],
      "text/plain": [
       "                           action   users\n",
       "0  Click through of product lists  445760\n",
       "1            Product detail views  362607\n",
       "2                       Check out  248936\n",
       "3              Completed purchase   74457"
      ]
     },
     "execution_count": 17,
     "metadata": {},
     "output_type": "execute_result"
    }
   ],
   "source": [
    "# action type별 총 조회수(hits) 집계\n",
    "\n",
    "query = \"\"\"\n",
    "        SELECT\n",
    "            CASE WHEN hits.eCommerceAction.action_type = '1' THEN 'Click through of product lists'\n",
    "                 WHEN hits.eCommerceAction.action_type = '2' THEN 'Product detail views'\n",
    "                 WHEN hits.eCommerceAction.action_type = '5' THEN 'Check out'\n",
    "                 WHEN hits.eCommerceAction.action_type = '6' THEN 'Completed purchase'\n",
    "            END AS action,\n",
    "            COUNT(fullvisitorID) AS users,\n",
    "        FROM\n",
    "            `bigquery-public-data.google_analytics_sample.ga_sessions_*`,\n",
    "            UNNEST(hits) AS hits,\n",
    "            UNNEST(hits.product) AS product\n",
    "        WHERE\n",
    "            _TABLE_SUFFIX BETWEEN '20160801' AND '20170801'\n",
    "        AND\n",
    "            (\n",
    "            hits.eCommerceAction.action_type != '0'\n",
    "            AND\n",
    "            hits.eCommerceAction.action_type != '3'\n",
    "            AND\n",
    "            hits.eCommerceAction.action_type != '4'\n",
    "            )\n",
    "        GROUP BY\n",
    "            action\n",
    "        ORDER BY\n",
    "            users DESC\n",
    "            \"\"\"\n",
    "\n",
    "result = client.query(query).result().to_dataframe()\n",
    "result.head(10)"
   ]
  },
  {
   "cell_type": "code",
   "execution_count": 19,
   "metadata": {},
   "outputs": [
    {
     "data": {
      "application/vnd.plotly.v1+json": {
       "config": {
        "plotlyServerURL": "https://plot.ly"
       },
       "data": [
        {
         "textinfo": "value+percent initial",
         "textposition": "inside",
         "type": "funnel",
         "x": [
          445760,
          362607,
          248936,
          74457
         ],
         "y": [
          "Click through of product lists",
          "Product detail views",
          "Check out",
          "Completed purchase"
         ]
        }
       ],
       "layout": {
        "height": 400,
        "template": {
         "data": {
          "bar": [
           {
            "error_x": {
             "color": "#2a3f5f"
            },
            "error_y": {
             "color": "#2a3f5f"
            },
            "marker": {
             "line": {
              "color": "#E5ECF6",
              "width": 0.5
             },
             "pattern": {
              "fillmode": "overlay",
              "size": 10,
              "solidity": 0.2
             }
            },
            "type": "bar"
           }
          ],
          "barpolar": [
           {
            "marker": {
             "line": {
              "color": "#E5ECF6",
              "width": 0.5
             },
             "pattern": {
              "fillmode": "overlay",
              "size": 10,
              "solidity": 0.2
             }
            },
            "type": "barpolar"
           }
          ],
          "carpet": [
           {
            "aaxis": {
             "endlinecolor": "#2a3f5f",
             "gridcolor": "white",
             "linecolor": "white",
             "minorgridcolor": "white",
             "startlinecolor": "#2a3f5f"
            },
            "baxis": {
             "endlinecolor": "#2a3f5f",
             "gridcolor": "white",
             "linecolor": "white",
             "minorgridcolor": "white",
             "startlinecolor": "#2a3f5f"
            },
            "type": "carpet"
           }
          ],
          "choropleth": [
           {
            "colorbar": {
             "outlinewidth": 0,
             "ticks": ""
            },
            "type": "choropleth"
           }
          ],
          "contour": [
           {
            "colorbar": {
             "outlinewidth": 0,
             "ticks": ""
            },
            "colorscale": [
             [
              0,
              "#0d0887"
             ],
             [
              0.1111111111111111,
              "#46039f"
             ],
             [
              0.2222222222222222,
              "#7201a8"
             ],
             [
              0.3333333333333333,
              "#9c179e"
             ],
             [
              0.4444444444444444,
              "#bd3786"
             ],
             [
              0.5555555555555556,
              "#d8576b"
             ],
             [
              0.6666666666666666,
              "#ed7953"
             ],
             [
              0.7777777777777778,
              "#fb9f3a"
             ],
             [
              0.8888888888888888,
              "#fdca26"
             ],
             [
              1,
              "#f0f921"
             ]
            ],
            "type": "contour"
           }
          ],
          "contourcarpet": [
           {
            "colorbar": {
             "outlinewidth": 0,
             "ticks": ""
            },
            "type": "contourcarpet"
           }
          ],
          "heatmap": [
           {
            "colorbar": {
             "outlinewidth": 0,
             "ticks": ""
            },
            "colorscale": [
             [
              0,
              "#0d0887"
             ],
             [
              0.1111111111111111,
              "#46039f"
             ],
             [
              0.2222222222222222,
              "#7201a8"
             ],
             [
              0.3333333333333333,
              "#9c179e"
             ],
             [
              0.4444444444444444,
              "#bd3786"
             ],
             [
              0.5555555555555556,
              "#d8576b"
             ],
             [
              0.6666666666666666,
              "#ed7953"
             ],
             [
              0.7777777777777778,
              "#fb9f3a"
             ],
             [
              0.8888888888888888,
              "#fdca26"
             ],
             [
              1,
              "#f0f921"
             ]
            ],
            "type": "heatmap"
           }
          ],
          "heatmapgl": [
           {
            "colorbar": {
             "outlinewidth": 0,
             "ticks": ""
            },
            "colorscale": [
             [
              0,
              "#0d0887"
             ],
             [
              0.1111111111111111,
              "#46039f"
             ],
             [
              0.2222222222222222,
              "#7201a8"
             ],
             [
              0.3333333333333333,
              "#9c179e"
             ],
             [
              0.4444444444444444,
              "#bd3786"
             ],
             [
              0.5555555555555556,
              "#d8576b"
             ],
             [
              0.6666666666666666,
              "#ed7953"
             ],
             [
              0.7777777777777778,
              "#fb9f3a"
             ],
             [
              0.8888888888888888,
              "#fdca26"
             ],
             [
              1,
              "#f0f921"
             ]
            ],
            "type": "heatmapgl"
           }
          ],
          "histogram": [
           {
            "marker": {
             "pattern": {
              "fillmode": "overlay",
              "size": 10,
              "solidity": 0.2
             }
            },
            "type": "histogram"
           }
          ],
          "histogram2d": [
           {
            "colorbar": {
             "outlinewidth": 0,
             "ticks": ""
            },
            "colorscale": [
             [
              0,
              "#0d0887"
             ],
             [
              0.1111111111111111,
              "#46039f"
             ],
             [
              0.2222222222222222,
              "#7201a8"
             ],
             [
              0.3333333333333333,
              "#9c179e"
             ],
             [
              0.4444444444444444,
              "#bd3786"
             ],
             [
              0.5555555555555556,
              "#d8576b"
             ],
             [
              0.6666666666666666,
              "#ed7953"
             ],
             [
              0.7777777777777778,
              "#fb9f3a"
             ],
             [
              0.8888888888888888,
              "#fdca26"
             ],
             [
              1,
              "#f0f921"
             ]
            ],
            "type": "histogram2d"
           }
          ],
          "histogram2dcontour": [
           {
            "colorbar": {
             "outlinewidth": 0,
             "ticks": ""
            },
            "colorscale": [
             [
              0,
              "#0d0887"
             ],
             [
              0.1111111111111111,
              "#46039f"
             ],
             [
              0.2222222222222222,
              "#7201a8"
             ],
             [
              0.3333333333333333,
              "#9c179e"
             ],
             [
              0.4444444444444444,
              "#bd3786"
             ],
             [
              0.5555555555555556,
              "#d8576b"
             ],
             [
              0.6666666666666666,
              "#ed7953"
             ],
             [
              0.7777777777777778,
              "#fb9f3a"
             ],
             [
              0.8888888888888888,
              "#fdca26"
             ],
             [
              1,
              "#f0f921"
             ]
            ],
            "type": "histogram2dcontour"
           }
          ],
          "mesh3d": [
           {
            "colorbar": {
             "outlinewidth": 0,
             "ticks": ""
            },
            "type": "mesh3d"
           }
          ],
          "parcoords": [
           {
            "line": {
             "colorbar": {
              "outlinewidth": 0,
              "ticks": ""
             }
            },
            "type": "parcoords"
           }
          ],
          "pie": [
           {
            "automargin": true,
            "type": "pie"
           }
          ],
          "scatter": [
           {
            "fillpattern": {
             "fillmode": "overlay",
             "size": 10,
             "solidity": 0.2
            },
            "type": "scatter"
           }
          ],
          "scatter3d": [
           {
            "line": {
             "colorbar": {
              "outlinewidth": 0,
              "ticks": ""
             }
            },
            "marker": {
             "colorbar": {
              "outlinewidth": 0,
              "ticks": ""
             }
            },
            "type": "scatter3d"
           }
          ],
          "scattercarpet": [
           {
            "marker": {
             "colorbar": {
              "outlinewidth": 0,
              "ticks": ""
             }
            },
            "type": "scattercarpet"
           }
          ],
          "scattergeo": [
           {
            "marker": {
             "colorbar": {
              "outlinewidth": 0,
              "ticks": ""
             }
            },
            "type": "scattergeo"
           }
          ],
          "scattergl": [
           {
            "marker": {
             "colorbar": {
              "outlinewidth": 0,
              "ticks": ""
             }
            },
            "type": "scattergl"
           }
          ],
          "scattermapbox": [
           {
            "marker": {
             "colorbar": {
              "outlinewidth": 0,
              "ticks": ""
             }
            },
            "type": "scattermapbox"
           }
          ],
          "scatterpolar": [
           {
            "marker": {
             "colorbar": {
              "outlinewidth": 0,
              "ticks": ""
             }
            },
            "type": "scatterpolar"
           }
          ],
          "scatterpolargl": [
           {
            "marker": {
             "colorbar": {
              "outlinewidth": 0,
              "ticks": ""
             }
            },
            "type": "scatterpolargl"
           }
          ],
          "scatterternary": [
           {
            "marker": {
             "colorbar": {
              "outlinewidth": 0,
              "ticks": ""
             }
            },
            "type": "scatterternary"
           }
          ],
          "surface": [
           {
            "colorbar": {
             "outlinewidth": 0,
             "ticks": ""
            },
            "colorscale": [
             [
              0,
              "#0d0887"
             ],
             [
              0.1111111111111111,
              "#46039f"
             ],
             [
              0.2222222222222222,
              "#7201a8"
             ],
             [
              0.3333333333333333,
              "#9c179e"
             ],
             [
              0.4444444444444444,
              "#bd3786"
             ],
             [
              0.5555555555555556,
              "#d8576b"
             ],
             [
              0.6666666666666666,
              "#ed7953"
             ],
             [
              0.7777777777777778,
              "#fb9f3a"
             ],
             [
              0.8888888888888888,
              "#fdca26"
             ],
             [
              1,
              "#f0f921"
             ]
            ],
            "type": "surface"
           }
          ],
          "table": [
           {
            "cells": {
             "fill": {
              "color": "#EBF0F8"
             },
             "line": {
              "color": "white"
             }
            },
            "header": {
             "fill": {
              "color": "#C8D4E3"
             },
             "line": {
              "color": "white"
             }
            },
            "type": "table"
           }
          ]
         },
         "layout": {
          "annotationdefaults": {
           "arrowcolor": "#2a3f5f",
           "arrowhead": 0,
           "arrowwidth": 1
          },
          "autotypenumbers": "strict",
          "coloraxis": {
           "colorbar": {
            "outlinewidth": 0,
            "ticks": ""
           }
          },
          "colorscale": {
           "diverging": [
            [
             0,
             "#8e0152"
            ],
            [
             0.1,
             "#c51b7d"
            ],
            [
             0.2,
             "#de77ae"
            ],
            [
             0.3,
             "#f1b6da"
            ],
            [
             0.4,
             "#fde0ef"
            ],
            [
             0.5,
             "#f7f7f7"
            ],
            [
             0.6,
             "#e6f5d0"
            ],
            [
             0.7,
             "#b8e186"
            ],
            [
             0.8,
             "#7fbc41"
            ],
            [
             0.9,
             "#4d9221"
            ],
            [
             1,
             "#276419"
            ]
           ],
           "sequential": [
            [
             0,
             "#0d0887"
            ],
            [
             0.1111111111111111,
             "#46039f"
            ],
            [
             0.2222222222222222,
             "#7201a8"
            ],
            [
             0.3333333333333333,
             "#9c179e"
            ],
            [
             0.4444444444444444,
             "#bd3786"
            ],
            [
             0.5555555555555556,
             "#d8576b"
            ],
            [
             0.6666666666666666,
             "#ed7953"
            ],
            [
             0.7777777777777778,
             "#fb9f3a"
            ],
            [
             0.8888888888888888,
             "#fdca26"
            ],
            [
             1,
             "#f0f921"
            ]
           ],
           "sequentialminus": [
            [
             0,
             "#0d0887"
            ],
            [
             0.1111111111111111,
             "#46039f"
            ],
            [
             0.2222222222222222,
             "#7201a8"
            ],
            [
             0.3333333333333333,
             "#9c179e"
            ],
            [
             0.4444444444444444,
             "#bd3786"
            ],
            [
             0.5555555555555556,
             "#d8576b"
            ],
            [
             0.6666666666666666,
             "#ed7953"
            ],
            [
             0.7777777777777778,
             "#fb9f3a"
            ],
            [
             0.8888888888888888,
             "#fdca26"
            ],
            [
             1,
             "#f0f921"
            ]
           ]
          },
          "colorway": [
           "#636efa",
           "#EF553B",
           "#00cc96",
           "#ab63fa",
           "#FFA15A",
           "#19d3f3",
           "#FF6692",
           "#B6E880",
           "#FF97FF",
           "#FECB52"
          ],
          "font": {
           "color": "#2a3f5f"
          },
          "geo": {
           "bgcolor": "white",
           "lakecolor": "white",
           "landcolor": "#E5ECF6",
           "showlakes": true,
           "showland": true,
           "subunitcolor": "white"
          },
          "hoverlabel": {
           "align": "left"
          },
          "hovermode": "closest",
          "mapbox": {
           "style": "light"
          },
          "paper_bgcolor": "white",
          "plot_bgcolor": "#E5ECF6",
          "polar": {
           "angularaxis": {
            "gridcolor": "white",
            "linecolor": "white",
            "ticks": ""
           },
           "bgcolor": "#E5ECF6",
           "radialaxis": {
            "gridcolor": "white",
            "linecolor": "white",
            "ticks": ""
           }
          },
          "scene": {
           "xaxis": {
            "backgroundcolor": "#E5ECF6",
            "gridcolor": "white",
            "gridwidth": 2,
            "linecolor": "white",
            "showbackground": true,
            "ticks": "",
            "zerolinecolor": "white"
           },
           "yaxis": {
            "backgroundcolor": "#E5ECF6",
            "gridcolor": "white",
            "gridwidth": 2,
            "linecolor": "white",
            "showbackground": true,
            "ticks": "",
            "zerolinecolor": "white"
           },
           "zaxis": {
            "backgroundcolor": "#E5ECF6",
            "gridcolor": "white",
            "gridwidth": 2,
            "linecolor": "white",
            "showbackground": true,
            "ticks": "",
            "zerolinecolor": "white"
           }
          },
          "shapedefaults": {
           "line": {
            "color": "#2a3f5f"
           }
          },
          "ternary": {
           "aaxis": {
            "gridcolor": "white",
            "linecolor": "white",
            "ticks": ""
           },
           "baxis": {
            "gridcolor": "white",
            "linecolor": "white",
            "ticks": ""
           },
           "bgcolor": "#E5ECF6",
           "caxis": {
            "gridcolor": "white",
            "linecolor": "white",
            "ticks": ""
           }
          },
          "title": {
           "x": 0.05
          },
          "xaxis": {
           "automargin": true,
           "gridcolor": "white",
           "linecolor": "white",
           "ticks": "",
           "title": {
            "standoff": 15
           },
           "zerolinecolor": "white",
           "zerolinewidth": 2
          },
          "yaxis": {
           "automargin": true,
           "gridcolor": "white",
           "linecolor": "white",
           "ticks": "",
           "title": {
            "standoff": 15
           },
           "zerolinecolor": "white",
           "zerolinewidth": 2
          }
         }
        },
        "title": {
         "text": "Google Merchandise Store Conversion Path"
        },
        "width": 800
       }
      }
     },
     "metadata": {},
     "output_type": "display_data"
    }
   ],
   "source": [
    "# funnel graph\n",
    "import plotly.graph_objs as go\n",
    "funnel_graph = go.Figure(go.Funnel(y = result['action'],\n",
    "                                x = result['users'],\n",
    "                                textposition = 'inside',  # Funnel 그래프 안에 텍스트를 표시할 위치를 'inside'로 설정\n",
    "                                textinfo = 'value + percent initial'), # 각 단계의 값과 초기값의 백분율을 나타내도록 설정\n",
    "                            layout = go.Layout(height = 400, width = 800)\n",
    "                        )\n",
    "funnel_graph.update_layout(title_text = 'Google Merchandise Store Conversion Path')\n",
    "\n",
    "funnel_graph.show()"
   ]
  },
  {
   "cell_type": "markdown",
   "metadata": {},
   "source": [
    "__💡 Insight__  \n",
    "- 제품 세부 정보를 확인한 사용자의 69%가 결제 페이지로 이동  \n",
    "- 그러나 이러한 사용자 중 실제로 구매를 완료한 비율은 30%에 불과하다는 것을 알 수 있음"
   ]
  },
  {
   "cell_type": "markdown",
   "metadata": {},
   "source": [
    "### 5. Identify Best-Selling Product Categories and Forecast Demand\n",
    "가장 인기 있는 제품 카테고리"
   ]
  },
  {
   "cell_type": "code",
   "execution_count": 21,
   "metadata": {},
   "outputs": [
    {
     "data": {
      "text/html": [
       "<div>\n",
       "<style scoped>\n",
       "    .dataframe tbody tr th:only-of-type {\n",
       "        vertical-align: middle;\n",
       "    }\n",
       "\n",
       "    .dataframe tbody tr th {\n",
       "        vertical-align: top;\n",
       "    }\n",
       "\n",
       "    .dataframe thead th {\n",
       "        text-align: right;\n",
       "    }\n",
       "</style>\n",
       "<table border=\"1\" class=\"dataframe\">\n",
       "  <thead>\n",
       "    <tr style=\"text-align: right;\">\n",
       "      <th></th>\n",
       "      <th>category</th>\n",
       "      <th>transactions</th>\n",
       "      <th>total_revenue</th>\n",
       "    </tr>\n",
       "  </thead>\n",
       "  <tbody>\n",
       "    <tr>\n",
       "      <th>0</th>\n",
       "      <td>(not set)</td>\n",
       "      <td>155239</td>\n",
       "      <td>51801830.97</td>\n",
       "    </tr>\n",
       "    <tr>\n",
       "      <th>1</th>\n",
       "      <td>Apparel</td>\n",
       "      <td>133504</td>\n",
       "      <td>44923859.06</td>\n",
       "    </tr>\n",
       "    <tr>\n",
       "      <th>2</th>\n",
       "      <td>Home/Apparel/Men's/Men's-T-Shirts/</td>\n",
       "      <td>147131</td>\n",
       "      <td>25222312.08</td>\n",
       "    </tr>\n",
       "    <tr>\n",
       "      <th>3</th>\n",
       "      <td>Home/Office/</td>\n",
       "      <td>100994</td>\n",
       "      <td>20222511.87</td>\n",
       "    </tr>\n",
       "    <tr>\n",
       "      <th>4</th>\n",
       "      <td>Home/Electronics/</td>\n",
       "      <td>62603</td>\n",
       "      <td>13716689.08</td>\n",
       "    </tr>\n",
       "    <tr>\n",
       "      <th>5</th>\n",
       "      <td>Office</td>\n",
       "      <td>41837</td>\n",
       "      <td>12733564.97</td>\n",
       "    </tr>\n",
       "    <tr>\n",
       "      <th>6</th>\n",
       "      <td>Home/Apparel/</td>\n",
       "      <td>61127</td>\n",
       "      <td>11863650.76</td>\n",
       "    </tr>\n",
       "    <tr>\n",
       "      <th>7</th>\n",
       "      <td>Home/Apparel/Women's/Women's-T-Shirts/</td>\n",
       "      <td>58134</td>\n",
       "      <td>11448008.84</td>\n",
       "    </tr>\n",
       "    <tr>\n",
       "      <th>8</th>\n",
       "      <td>Home/Drinkware/Water Bottles and Tumblers/</td>\n",
       "      <td>44300</td>\n",
       "      <td>10600034.98</td>\n",
       "    </tr>\n",
       "    <tr>\n",
       "      <th>9</th>\n",
       "      <td>Home/Apparel/Men's/</td>\n",
       "      <td>77731</td>\n",
       "      <td>9781940.51</td>\n",
       "    </tr>\n",
       "  </tbody>\n",
       "</table>\n",
       "</div>"
      ],
      "text/plain": [
       "                                     category  transactions  total_revenue\n",
       "0                                   (not set)        155239    51801830.97\n",
       "1                                     Apparel        133504    44923859.06\n",
       "2          Home/Apparel/Men's/Men's-T-Shirts/        147131    25222312.08\n",
       "3                                Home/Office/        100994    20222511.87\n",
       "4                           Home/Electronics/         62603    13716689.08\n",
       "5                                      Office         41837    12733564.97\n",
       "6                               Home/Apparel/         61127    11863650.76\n",
       "7      Home/Apparel/Women's/Women's-T-Shirts/         58134    11448008.84\n",
       "8  Home/Drinkware/Water Bottles and Tumblers/         44300    10600034.98\n",
       "9                         Home/Apparel/Men's/         77731     9781940.51"
      ]
     },
     "execution_count": 21,
     "metadata": {},
     "output_type": "execute_result"
    }
   ],
   "source": [
    "query = \"\"\"\n",
    "        SELECT\n",
    "            product.v2ProductCategory AS category,\n",
    "            SUM(totals.transactions) AS transactions,\n",
    "            SUM(totals.totalTransactionRevenue)/1000000 AS total_revenue\n",
    "        FROM\n",
    "            `bigquery-public-data.google_analytics_sample.ga_sessions_*`,\n",
    "            UNNEST(hits) AS hits,\n",
    "            UNNEST(hits.product) AS product\n",
    "        WHERE\n",
    "            _TABLE_SUFFIX BETWEEN '20160801' AND '20170801'\n",
    "        GROUP BY\n",
    "            category\n",
    "        ORDER BY\n",
    "            total_revenue DESC\n",
    "        LIMIT 10\n",
    "        \"\"\"\n",
    "\n",
    "cat_result = client.query(query).result().to_dataframe()\n",
    "cat_result.head(10)"
   ]
  },
  {
   "cell_type": "markdown",
   "metadata": {},
   "source": [
    "__💡insight__ \n",
    "- 가장 많이 팔리는 카테고리 중 일부는 `Apparel`와 관련이 있으며, `Men's-T-Shirts`가 가장 높은 순위\n",
    "- `Office`, `Electronics`, `Water Bottles and Tumblers`도 잘 팔리고 있음\n",
    "- `Apparel` 카테고리에서 가장 잘 팔리는 제품인 `Men's T-Shirts`의 수요를 예측하기 위해 7일간의 거래 이동 평균을 계산\n"
   ]
  },
  {
   "cell_type": "code",
   "execution_count": null,
   "metadata": {},
   "outputs": [],
   "source": [
    "query = \"\"\"\n",
    "        WITH daily_mens_tshirt_transaction AS\n",
    "        (\n",
    "        SELECT \n",
    "        )\n",
    "\n",
    "        \"\"\""
   ]
  }
 ],
 "metadata": {
  "kernelspec": {
   "display_name": "base",
   "language": "python",
   "name": "python3"
  },
  "language_info": {
   "codemirror_mode": {
    "name": "ipython",
    "version": 3
   },
   "file_extension": ".py",
   "mimetype": "text/x-python",
   "name": "python",
   "nbconvert_exporter": "python",
   "pygments_lexer": "ipython3",
   "version": "3.9.13"
  }
 },
 "nbformat": 4,
 "nbformat_minor": 2
}
